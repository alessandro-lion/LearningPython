{
  "nbformat": 4,
  "nbformat_minor": 0,
  "metadata": {
    "colab": {
      "name": "TestRegularExpression.ipynb",
      "provenance": [],
      "authorship_tag": "ABX9TyPiIERz8FnsmMxLTBQb6pJV",
      "include_colab_link": true
    },
    "kernelspec": {
      "name": "python3",
      "display_name": "Python 3"
    },
    "language_info": {
      "name": "python"
    }
  },
  "cells": [
    {
      "cell_type": "markdown",
      "metadata": {
        "id": "view-in-github",
        "colab_type": "text"
      },
      "source": [
        "<a href=\"https://colab.research.google.com/github/alessandro-lion/LearningPython/blob/main/TestRegularExpression.ipynb\" target=\"_parent\"><img src=\"https://colab.research.google.com/assets/colab-badge.svg\" alt=\"Open In Colab\"/></a>"
      ]
    },
    {
      "cell_type": "code",
      "execution_count": 15,
      "metadata": {
        "colab": {
          "base_uri": "https://localhost:8080/"
        },
        "id": "-QnxeAD5Guu-",
        "outputId": "ee9eeedb-0095-4861-f741-713edc504b6e"
      },
      "outputs": [
        {
          "output_type": "stream",
          "name": "stdout",
          "text": [
            "Inserire C/C Number oppure IBAN:C/C. 125613\n",
            "Verifica in corso...\n",
            "['C/C. 125613']\n",
            "Verifica ultimata!\n"
          ]
        }
      ],
      "source": [
        "#Esempi con regexp per check_IBAN o CC \n",
        "# Utilizzo: Se il valore in input è valido per la regular expression lo si vedrà ripetuto nella console\n",
        "\n",
        "#            121551122-8989-1   NO9386011117947   AL47212110090000000235698741   C/C. 125613\n",
        "import re\n",
        "\n",
        "myval = input(\"Inserire C/C Number oppure IBAN:\")\n",
        "print(\"Verifica in corso...\")\n",
        "x = re.findall(\"^[A-Z]{2}\\d{2}[A-Z|0-9]{5,30}$|^[A-Z|0-9| -./]{5,30}$\", myval)\n",
        "print(x)\n",
        "print(\"Verifica ultimata!\")"
      ]
    }
  ]
}